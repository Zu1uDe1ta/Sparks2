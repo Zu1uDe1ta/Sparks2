{
 "cells": [
  {
   "cell_type": "code",
   "execution_count": 1,
   "metadata": {},
   "outputs": [],
   "source": [
    "# BROADCAST VARIABLES ARE USED IN PROCESSES TO ACCESS SHARED DATA \n",
    "# ACCUMULATORS ALLOW MULTIPLE PROCESSES TO UPDATED SHARED VARIABLES\n",
    "# SPARK CONTEXT (SC)\n",
    "# SPARK SESSION COMPRISES OF SPARK CONTEXT (SC) AND HIVE CONTEXT (HC)"
   ]
  },
  {
   "cell_type": "code",
   "execution_count": 2,
   "metadata": {},
   "outputs": [],
   "source": [
    "from pyspark.sql import SparkSession"
   ]
  },
  {
   "cell_type": "code",
   "execution_count": 3,
   "metadata": {},
   "outputs": [],
   "source": [
    "# WE CAN GET (IF IT ALREADY EXISTS) OR CREATE A SparkSession AS SUCH\n",
    "spark = SparkSession.builder\\\n",
    "                    .appName(\"Analyzing London crime data\")\\\n",
    "                    .getOrCreate()"
   ]
  },
  {
   "cell_type": "code",
   "execution_count": 7,
   "metadata": {},
   "outputs": [],
   "source": [
    "# WE DESIGNATED THAT THE DATA IS IN A csv FORMAT, AND DESIGNATE header SO \n",
    "data = spark.read\\\n",
    "            .format(\"csv\")\\\n",
    "            .option(\"header\", \"true\")\\\n",
    "            .load(\"../datasets/london_crime_by_lsoa.csv\")"
   ]
  },
  {
   "cell_type": "code",
   "execution_count": 8,
   "metadata": {},
   "outputs": [
    {
     "name": "stdout",
     "output_type": "stream",
     "text": [
      "root\n",
      " |-- lsoa_code: string (nullable = true)\n",
      " |-- borough: string (nullable = true)\n",
      " |-- major_category: string (nullable = true)\n",
      " |-- minor_category: string (nullable = true)\n",
      " |-- value: string (nullable = true)\n",
      " |-- year: string (nullable = true)\n",
      " |-- month: string (nullable = true)\n",
      "\n"
     ]
    }
   ],
   "source": [
    "# ALLOWS US TO SEE THE SCHEMA OF THE DATA THAT WE JUST READ IN\n",
    "data.printSchema()"
   ]
  },
  {
   "cell_type": "code",
   "execution_count": 9,
   "metadata": {},
   "outputs": [
    {
     "data": {
      "text/plain": [
       "13490604"
      ]
     },
     "execution_count": 9,
     "metadata": {},
     "output_type": "execute_result"
    }
   ],
   "source": [
    "data.count()"
   ]
  },
  {
   "cell_type": "code",
   "execution_count": 10,
   "metadata": {},
   "outputs": [
    {
     "name": "stdout",
     "output_type": "stream",
     "text": [
      "+---------+----------+--------------------+--------------------+-----+----+-----+\n",
      "|lsoa_code|   borough|      major_category|      minor_category|value|year|month|\n",
      "+---------+----------+--------------------+--------------------+-----+----+-----+\n",
      "|E01001116|   Croydon|            Burglary|Burglary in Other...|    0|2016|   11|\n",
      "|E01001646| Greenwich|Violence Against ...|      Other violence|    0|2016|   11|\n",
      "|E01000677|   Bromley|Violence Against ...|      Other violence|    0|2015|    5|\n",
      "|E01003774| Redbridge|            Burglary|Burglary in Other...|    0|2016|    3|\n",
      "|E01004563|Wandsworth|             Robbery|   Personal Property|    0|2008|    6|\n",
      "+---------+----------+--------------------+--------------------+-----+----+-----+\n",
      "\n"
     ]
    }
   ],
   "source": [
    "data.limit(5).show()"
   ]
  },
  {
   "cell_type": "code",
   "execution_count": 11,
   "metadata": {},
   "outputs": [
    {
     "data": {
      "text/plain": [
       "DataFrame[lsoa_code: string, borough: string, major_category: string, minor_category: string, value: string, year: string, month: string]"
      ]
     },
     "execution_count": 11,
     "metadata": {},
     "output_type": "execute_result"
    }
   ],
   "source": [
    "# JUST LIKE PANDAS DROPS ROWS W/NA\n",
    "data.dropna()"
   ]
  },
  {
   "cell_type": "code",
   "execution_count": 12,
   "metadata": {},
   "outputs": [
    {
     "name": "stdout",
     "output_type": "stream",
     "text": [
      "+----------+--------------------+--------------------+-----+----+-----+\n",
      "|   borough|      major_category|      minor_category|value|year|month|\n",
      "+----------+--------------------+--------------------+-----+----+-----+\n",
      "|   Croydon|            Burglary|Burglary in Other...|    0|2016|   11|\n",
      "| Greenwich|Violence Against ...|      Other violence|    0|2016|   11|\n",
      "|   Bromley|Violence Against ...|      Other violence|    0|2015|    5|\n",
      "| Redbridge|            Burglary|Burglary in Other...|    0|2016|    3|\n",
      "|Wandsworth|             Robbery|   Personal Property|    0|2008|    6|\n",
      "+----------+--------------------+--------------------+-----+----+-----+\n",
      "only showing top 5 rows\n",
      "\n"
     ]
    }
   ],
   "source": [
    "# TRIM DATA BY DROPPING COLUMNS WHICH ARE NOT USEFUL FOR ANALYSIS\n",
    "data = data.drop('lsoa_code')\n",
    "\n",
    "data.show(5)"
   ]
  },
  {
   "cell_type": "code",
   "execution_count": 13,
   "metadata": {},
   "outputs": [
    {
     "name": "stdout",
     "output_type": "stream",
     "text": [
      "+--------------------+\n",
      "|             borough|\n",
      "+--------------------+\n",
      "|             Croydon|\n",
      "|          Wandsworth|\n",
      "|              Bexley|\n",
      "|             Lambeth|\n",
      "|Barking and Dagenham|\n",
      "|              Camden|\n",
      "|           Greenwich|\n",
      "|              Newham|\n",
      "|       Tower Hamlets|\n",
      "|            Hounslow|\n",
      "|              Barnet|\n",
      "|              Harrow|\n",
      "|Kensington and Ch...|\n",
      "|           Islington|\n",
      "|               Brent|\n",
      "|            Haringey|\n",
      "|             Bromley|\n",
      "|              Merton|\n",
      "|         Westminster|\n",
      "|             Hackney|\n",
      "+--------------------+\n",
      "only showing top 20 rows\n",
      "\n"
     ]
    }
   ],
   "source": [
    "# YOU CAN SEE UNIQUE VALUES W/IN A COLUMN BY UTILIZING THE .distinct OPERATION\n",
    "total_boroughs = data.select('borough')\\\n",
    "                     .distinct()\n",
    "total_boroughs.show()"
   ]
  },
  {
   "cell_type": "code",
   "execution_count": 14,
   "metadata": {},
   "outputs": [
    {
     "data": {
      "text/plain": [
       "33"
      ]
     },
     "execution_count": 14,
     "metadata": {},
     "output_type": "execute_result"
    }
   ],
   "source": [
    "total_boroughs.count()"
   ]
  },
  {
   "cell_type": "code",
   "execution_count": 17,
   "metadata": {},
   "outputs": [
    {
     "name": "stdout",
     "output_type": "stream",
     "text": [
      "+-------+--------------------+--------------------+-----+----+-----+\n",
      "|borough|      major_category|      minor_category|value|year|month|\n",
      "+-------+--------------------+--------------------+-----+----+-----+\n",
      "|Hackney|     Criminal Damage|Criminal Damage T...|    0|2011|    6|\n",
      "|Hackney|Violence Against ...|          Harassment|    1|2013|    2|\n",
      "|Hackney|     Criminal Damage|Other Criminal Da...|    0|2011|    7|\n",
      "|Hackney|Violence Against ...|        Wounding/GBH|    0|2013|   12|\n",
      "|Hackney|  Theft and Handling|  Other Theft Person|    0|2016|    8|\n",
      "+-------+--------------------+--------------------+-----+----+-----+\n",
      "only showing top 5 rows\n",
      "\n"
     ]
    }
   ],
   "source": [
    "# YOU CAN FILETER OUT RECORDS OF A SPECIFIC VALUE \n",
    "hackney_data = data.filter(data['borough'] == 'Hackney')\n",
    "\n",
    "hackney_data.show(5)"
   ]
  },
  {
   "cell_type": "code",
   "execution_count": 18,
   "metadata": {},
   "outputs": [
    {
     "name": "stdout",
     "output_type": "stream",
     "text": [
      "+--------------------+--------------------+--------------------+-----+----+-----+\n",
      "|             borough|      major_category|      minor_category|value|year|month|\n",
      "+--------------------+--------------------+--------------------+-----+----+-----+\n",
      "|          Hillingdon|  Theft and Handling|Theft/Taking Of M...|    0|2016|    2|\n",
      "|           Southwark|  Theft and Handling|    Theft From Shops|    4|2016|    8|\n",
      "|             Croydon|             Robbery|   Personal Property|    0|2016|    1|\n",
      "|      Waltham Forest|Violence Against ...|      Other violence|    0|2016|    9|\n",
      "|Kensington and Ch...|             Robbery|   Personal Property|    1|2015|    7|\n",
      "|      Waltham Forest|            Burglary|Burglary in Other...|    0|2015|    6|\n",
      "|              Bexley|Violence Against ...| Assault with Injury|    0|2015|    6|\n",
      "|         Westminster|  Theft and Handling|Theft From Motor ...|    6|2016|    8|\n",
      "|               Brent|  Theft and Handling|Theft/Taking of P...|    0|2015|    1|\n",
      "|              Barnet|  Theft and Handling|Handling Stolen G...|    0|2016|    4|\n",
      "|Hammersmith and F...|  Theft and Handling|Theft/Taking Of M...|    1|2016|   12|\n",
      "|            Havering|Other Notifiable ...|    Other Notifiable|    0|2016|    6|\n",
      "|              Ealing|            Burglary|Burglary in Other...|    0|2016|    5|\n",
      "|           Southwark|  Theft and Handling|Handling Stolen G...|    0|2015|    3|\n",
      "|          Wandsworth|            Burglary|Burglary in Other...|    0|2015|    3|\n",
      "|             Enfield|Violence Against ...|      Other violence|    0|2016|    9|\n",
      "|            Havering|Violence Against ...|    Offensive Weapon|    0|2016|   11|\n",
      "|              Merton|Violence Against ...|          Harassment|    1|2015|    6|\n",
      "|           Islington|  Theft and Handling|Theft/Taking Of M...|    1|2015|    1|\n",
      "|            Haringey|Violence Against ...|        Wounding/GBH|    0|2016|   12|\n",
      "+--------------------+--------------------+--------------------+-----+----+-----+\n",
      "only showing top 20 rows\n",
      "\n"
     ]
    }
   ],
   "source": [
    "# HERE WE FILTER THE RECORDS USING .isin FUNCTION TO SPECIFY YEARS\n",
    "# .sample FUNCTION ALLOWS YOU TO SEE A CERTAIN FRACTION OF YOUR DATA SET\n",
    "data_2015_2016 = data.filter(data['year'].isin(['2015','2016']))\n",
    "data_2015_2016.sample(fraction=0.1).show()"
   ]
  },
  {
   "cell_type": "code",
   "execution_count": 20,
   "metadata": {},
   "outputs": [
    {
     "name": "stdout",
     "output_type": "stream",
     "text": [
      "+--------------------+--------------------+--------------------+-----+----+-----+\n",
      "|             borough|      major_category|      minor_category|value|year|month|\n",
      "+--------------------+--------------------+--------------------+-----+----+-----+\n",
      "|             Bromley|Violence Against ...|      Other violence|    0|2015|    5|\n",
      "|             Lambeth|Violence Against ...|      Other violence|    0|2015|    4|\n",
      "|            Havering|    Fraud or Forgery|  Counted per Victim|    0|2015|   11|\n",
      "|           Southwark|  Theft and Handling|    Theft From Shops|    4|2016|    8|\n",
      "|              Newham|     Criminal Damage|Criminal Damage T...|    0|2015|    1|\n",
      "|             Hackney|             Robbery|   Business Property|    0|2016|    7|\n",
      "|            Havering|            Burglary|Burglary in a Dwe...|    1|2016|    8|\n",
      "|             Croydon|Violence Against ...|      Common Assault|    1|2014|   11|\n",
      "|             Bromley|     Criminal Damage|Criminal Damage T...|    0|2014|    6|\n",
      "|           Islington|     Criminal Damage|Criminal Damage T...|    0|2014|   12|\n",
      "|Hammersmith and F...|               Drugs| Possession Of Drugs|    1|2016|    2|\n",
      "|       Tower Hamlets|  Theft and Handling|Handling Stolen G...|    0|2015|   10|\n",
      "|          Wandsworth|  Theft and Handling|Handling Stolen G...|    0|2016|    2|\n",
      "|            Havering|Violence Against ...|          Harassment|    1|2016|    8|\n",
      "|             Enfield|  Theft and Handling|Motor Vehicle Int...|    1|2015|    7|\n",
      "|            Havering|Other Notifiable ...|    Other Notifiable|    0|2016|    6|\n",
      "|             Lambeth|               Drugs|    Drug Trafficking|    0|2015|    5|\n",
      "|            Haringey|  Theft and Handling|Handling Stolen G...|    0|2015|   12|\n",
      "|          Hillingdon|            Burglary|Burglary in Other...|    0|2016|   12|\n",
      "|       Tower Hamlets|Violence Against ...|          Harassment|    1|2016|   10|\n",
      "+--------------------+--------------------+--------------------+-----+----+-----+\n",
      "only showing top 20 rows\n",
      "\n"
     ]
    }
   ],
   "source": [
    "# WE CAN USE OTHER VARIABLE MANIPULATIONS TO EXTRACT CERTAIN DATA\n",
    "data_2014_onwards = data.filter(data['year']>= 2014 )\n",
    "data_2014_onwards.sample(fraction=0.1).show()"
   ]
  },
  {
   "cell_type": "code",
   "execution_count": 21,
   "metadata": {},
   "outputs": [
    {
     "name": "stdout",
     "output_type": "stream",
     "text": [
      "+--------------------+------+\n",
      "|             borough| count|\n",
      "+--------------------+------+\n",
      "|             Croydon|602100|\n",
      "|          Wandsworth|498636|\n",
      "|              Bexley|385668|\n",
      "|             Lambeth|519048|\n",
      "|Barking and Dagenham|311040|\n",
      "+--------------------+------+\n",
      "only showing top 5 rows\n",
      "\n"
     ]
    }
   ],
   "source": [
    "#PERFORM AGGREGATIONS ON DFs\n",
    "# .groupBY IS SIMILAR TO SQL\n",
    "borough_crime_count = data.groupBy('borough')\\\n",
    "                          .count()\n",
    "\n",
    "borough_crime_count.show(5)"
   ]
  },
  {
   "cell_type": "code",
   "execution_count": 22,
   "metadata": {},
   "outputs": [
    {
     "name": "stdout",
     "output_type": "stream",
     "text": [
      "+--------------------+----------+\n",
      "|             borough|sum(value)|\n",
      "+--------------------+----------+\n",
      "|             Croydon|  260294.0|\n",
      "|          Wandsworth|  204741.0|\n",
      "|              Bexley|  114136.0|\n",
      "|             Lambeth|  292178.0|\n",
      "|Barking and Dagenham|  149447.0|\n",
      "+--------------------+----------+\n",
      "only showing top 5 rows\n",
      "\n"
     ]
    }
   ],
   "source": [
    "# SUM IS A BUILT IN AGGREGATION IN SPARK DFs, WE UTILIZE BY INVOKING THE .agg METHOD\n",
    "borough_conviction_sum = data.groupBy('borough')\\\n",
    "                             .agg({'value' : 'sum'})\n",
    "\n",
    "borough_conviction_sum.show(5)"
   ]
  },
  {
   "cell_type": "code",
   "execution_count": 24,
   "metadata": {},
   "outputs": [
    {
     "name": "stdout",
     "output_type": "stream",
     "text": [
      "+--------------------+-----------+\n",
      "|             borough|convictions|\n",
      "+--------------------+-----------+\n",
      "|             Croydon|   260294.0|\n",
      "|          Wandsworth|   204741.0|\n",
      "|              Bexley|   114136.0|\n",
      "|             Lambeth|   292178.0|\n",
      "|Barking and Dagenham|   149447.0|\n",
      "+--------------------+-----------+\n",
      "only showing top 5 rows\n",
      "\n"
     ]
    }
   ],
   "source": [
    "borough_conviction_sum = data.groupBy('borough')\\\n",
    "                             .agg({'value' : 'sum'})\\\n",
    "                             .withColumnRenamed(\"sum(value)\", \"convictions\")\n",
    "\n",
    "borough_conviction_sum.show(5)"
   ]
  },
  {
   "cell_type": "code",
   "execution_count": 27,
   "metadata": {},
   "outputs": [
    {
     "name": "stdout",
     "output_type": "stream",
     "text": [
      "+----------------+\n",
      "|sum(convictions)|\n",
      "+----------------+\n",
      "|       6447758.0|\n",
      "+----------------+\n",
      "\n"
     ]
    }
   ],
   "source": [
    "# WE UTILIZE THE SUM FUNCTION W/OUT GROUPBY \n",
    "total_borough_convictions = borough_conviction_sum.agg({\"convictions\" : \"sum\"})\n",
    "\n",
    "total_borough_convictions.show()"
   ]
  },
  {
   "cell_type": "code",
   "execution_count": 28,
   "metadata": {},
   "outputs": [],
   "source": [
    "total_convictions = total_borough_convictions.collect()[0][0]"
   ]
  },
  {
   "cell_type": "code",
   "execution_count": 29,
   "metadata": {},
   "outputs": [],
   "source": [
    "import pyspark.sql.functions as func"
   ]
  },
  {
   "cell_type": "code",
   "execution_count": 31,
   "metadata": {},
   "outputs": [
    {
     "name": "stdout",
     "output_type": "stream",
     "text": [
      "root\n",
      " |-- borough: string (nullable = true)\n",
      " |-- convictions: double (nullable = true)\n",
      " |-- % contribution: double (nullable = true)\n",
      "\n"
     ]
    }
   ],
   "source": [
    "# ADDED A NEW COLUMN % contribution\n",
    "# ROUNDS RESULTS TO 2 DECIMAL PLACES, UTILIZING .round METHOD, THEN PUTTING A 2 @ THE END OF THE FUNCTION\n",
    "borough_percentage_contribution = borough_conviction_sum.withColumn(\n",
    "    \"% contribution\",\n",
    "    func.round(borough_conviction_sum.convictions / total_convictions * 100, 2))\n",
    "\n",
    "borough_percentage_contribution.printSchema()"
   ]
  },
  {
   "cell_type": "code",
   "execution_count": 32,
   "metadata": {},
   "outputs": [
    {
     "name": "stdout",
     "output_type": "stream",
     "text": [
      "+-------------+-----------+--------------+\n",
      "|      borough|convictions|% contribution|\n",
      "+-------------+-----------+--------------+\n",
      "|  Westminster|   455028.0|          7.06|\n",
      "|      Lambeth|   292178.0|          4.53|\n",
      "|    Southwark|   278809.0|          4.32|\n",
      "|       Camden|   275147.0|          4.27|\n",
      "|       Newham|   262024.0|          4.06|\n",
      "|      Croydon|   260294.0|          4.04|\n",
      "|       Ealing|   251562.0|           3.9|\n",
      "|    Islington|   230286.0|          3.57|\n",
      "|Tower Hamlets|   228613.0|          3.55|\n",
      "|        Brent|   227551.0|          3.53|\n",
      "+-------------+-----------+--------------+\n",
      "only showing top 10 rows\n",
      "\n"
     ]
    }
   ],
   "source": [
    "# ORDER BY THE 3RD COLUMN @ INDEX [2] IN DESCENDING MANNER\n",
    "borough_percentage_contribution.orderBy(borough_percentage_contribution[2].desc())\\\n",
    "                               .show(10)"
   ]
  },
  {
   "cell_type": "code",
   "execution_count": null,
   "metadata": {},
   "outputs": [],
   "source": []
  }
 ],
 "metadata": {
  "kernelspec": {
   "display_name": "Python 3",
   "language": "python",
   "name": "python3"
  },
  "language_info": {
   "codemirror_mode": {
    "name": "ipython",
    "version": 3
   },
   "file_extension": ".py",
   "mimetype": "text/x-python",
   "name": "python",
   "nbconvert_exporter": "python",
   "pygments_lexer": "ipython3",
   "version": "3.7.6"
  }
 },
 "nbformat": 4,
 "nbformat_minor": 4
}
